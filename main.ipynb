{
 "cells": [
  {
   "cell_type": "markdown",
   "id": "54007834",
   "metadata": {},
   "source": [
    "# Initialize environment"
   ]
  },
  {
   "cell_type": "code",
   "execution_count": null,
   "id": "0d1eeeb6",
   "metadata": {},
   "outputs": [],
   "source": [
    "from classes import *\n",
    "import pandas as pd\n",
    "from datetime import datetime, timedelta, time\n",
    "from ipywidgets import interact, interactive, fixed, interact_manual\n",
    "import ipywidgets as widgets\n",
    "import plotly.express as px\n",
    "import plotly.graph_objects as go\n",
    "from choo_raptor import ChochocrewAlgorithm\n",
    "\n",
    "%load_ext sparkmagic.magics\n",
    "%load_ext autoreload\n",
    "%autoreload 2"
   ]
  },
  {
   "cell_type": "code",
   "execution_count": null,
   "id": "ffda3aad",
   "metadata": {
    "tags": []
   },
   "outputs": [],
   "source": [
    "!pip install pyarrow\n",
    "!pip install fastparquet\n",
    "!git lfs pull"
   ]
  },
  {
   "cell_type": "markdown",
   "id": "7b851fe6",
   "metadata": {},
   "source": [
    "# Load data and instantiate python classes "
   ]
  },
  {
   "cell_type": "code",
   "execution_count": null,
   "id": "d6076adc-e8a8-4be7-a5ab-7a0eb43e7d7e",
   "metadata": {},
   "outputs": [],
   "source": [
    "from load_data import get_data\n",
    "\n",
    "# It can takes a few minutes\n",
    "stops, routes, footpaths, stops_df =  get_data()"
   ]
  },
  {
   "cell_type": "code",
   "execution_count": null,
   "id": "5b4bcbb7-3185-4496-a541-557abd3ae265",
   "metadata": {},
   "outputs": [],
   "source": [
    "stops_save = stops.copy()\n",
    "routes_save = routes.copy()\n",
    "footpaths_save = footpaths.copy()"
   ]
  },
  {
   "cell_type": "markdown",
   "id": "f24cd2c6",
   "metadata": {},
   "source": [
    "## Chocho_Raptor\n",
    "There are some tests that you can check"
   ]
  },
  {
   "cell_type": "code",
   "execution_count": null,
   "id": "aa4d8c36-ca0b-4fc2-bd39-d353632dfe6a",
   "metadata": {},
   "outputs": [],
   "source": [
    "from tests import *\n",
    "\n",
    "# Some predefined itineraries\n",
    "\n",
    "# test1(stops_save.copy(), routes_save.copy(), footpaths_save.copy())\n",
    "# test2(stops_save.copy(), routes_save.copy(), footpaths_save.copy())\n",
    "# test3(stops_save.copy(), routes_save.copy(), footpaths_save.copy())\n",
    "# test4(stops_save.copy(), routes_save.copy(), footpaths_save.copy())"
   ]
  },
  {
   "cell_type": "markdown",
   "id": "e29e8452-88ad-462a-a3f8-182dbe6ca921",
   "metadata": {},
   "source": [
    "## Interface\n",
    "You can run the cell below to choose your journey"
   ]
  },
  {
   "cell_type": "code",
   "execution_count": null,
   "id": "f98ed660-b804-415c-9f3b-60ea63673a19",
   "metadata": {},
   "outputs": [],
   "source": [
    "# Run this cell and choose your itinerary\n",
    "from interface import process_journey, plot_journey, plot_trip\n",
    "stops_name_interface = []\n",
    "\n",
    "for s in stops : \n",
    "    stops_name_interface.append(s.stop_name)\n",
    "    \n",
    "@interact(dep_stop=widgets.Dropdown(\n",
    "                options=sorted(stops_name_interface),\n",
    "                description='Departure stop:', \n",
    "                style=dict(description_width='initial'),\n",
    "                  value = \"Zürich Flughafen\"), \n",
    "          arr_stop=widgets.Dropdown(\n",
    "                options=sorted(stops_name_interface),\n",
    "                description='Arrival stop:', \n",
    "                style=dict(description_width='initial'),\n",
    "                  value = \"Dietikon\"), \n",
    "          arr_time=widgets.TimePicker(\n",
    "                description='Max arrival time',\n",
    "                style=dict(description_width='initial')), \n",
    "          prob=widgets.FloatSlider(\n",
    "                value = 1.0,\n",
    "                min=0,\n",
    "                max=1.0,\n",
    "                step=0.01,\n",
    "                disabled=False,\n",
    "                continuous_update=False,\n",
    "                description='Probability:'))\n",
    "\n",
    "def everything(dep_stop = None, arr_stop = None, arr_time= None, prob=None):\n",
    "\n",
    "    if not (dep_stop == None and arr_stop == None and arr_time == None):\n",
    "        if arr_time == None or prob == 1 or (dep_stop == arr_stop):\n",
    "            if (dep_stop == arr_stop):\n",
    "                print(\"Please choose a departure stop different from the arrival stop\")\n",
    "            elif arr_time == None:\n",
    "                print(\"Please give an arrival time\")\n",
    "            elif prob == 1 :\n",
    "                print(\"Please give a probability smaller than 1\")\n",
    "        else:\n",
    "\n",
    "            print(\"Computing the journey...\")\n",
    "            \n",
    "            dep_stop_algo = next((s for s in stops if  s.stop_name == dep_stop), None)\n",
    "            arr_stop_algo = next((s for s in stops if s.stop_name == arr_stop), None)\n",
    "            if not (isinstance(arr_time, str)):\n",
    "                arr_time = arr_time.strftime(\"%H:%M:%S\")\n",
    "\n",
    "            arr_time = datetime.combine(datetime.today().date(), time.fromisoformat(arr_time))\n",
    "\n",
    "            choo_algo = ChochocrewAlgorithm(starting_stop = dep_stop_algo,\n",
    "                                        arrival_stop = arr_stop_algo, \n",
    "                                        prob_threshold = prob,\n",
    "                                        max_arrival_time = arr_time, \n",
    "                                        min_arrival_time = arr_time,\n",
    "                                        stops = stops_save.copy(),\n",
    "                                        routes = routes_save.copy(), \n",
    "                                        footpaths = footpaths_save.copy(),\n",
    "                                        verbose = False,\n",
    "                                        with_proba = True)\n",
    "            for stop in stops :\n",
    "                stop.label_bags = [LabelBag(stop)]\n",
    "\n",
    "            journeys = choo_algo.run()\n",
    "\n",
    "            if len(journeys) == 0:\n",
    "                print(\"No routes has been found\")\n",
    "            else:\n",
    "                for index, journey in enumerate(journeys):\n",
    "                        plot_journey(journey, index)\n",
    "                        lon, lat, names = process_journey(journey['journey'],stops_df )\n",
    "                        plot_trip(lon, lat, \"trip\" + str (index), names, stops_df)\n",
    "                \n",
    "everything()"
   ]
  },
  {
   "cell_type": "code",
   "execution_count": null,
   "id": "4b33cf55-5df6-4664-8967-dac55e68c18a",
   "metadata": {},
   "outputs": [],
   "source": []
  }
 ],
 "metadata": {
  "kernelspec": {
   "display_name": "Python 3 (ipykernel)",
   "language": "python",
   "name": "python3"
  },
  "language_info": {
   "codemirror_mode": {
    "name": "ipython",
    "version": 3
   },
   "file_extension": ".py",
   "mimetype": "text/x-python",
   "name": "python",
   "nbconvert_exporter": "python",
   "pygments_lexer": "ipython3",
   "version": "3.9.12"
  }
 },
 "nbformat": 4,
 "nbformat_minor": 5
}
