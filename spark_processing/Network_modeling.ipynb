{
 "cells": [
  {
   "cell_type": "markdown",
   "id": "377e5781",
   "metadata": {},
   "source": [
    "# Network modeling\n",
    "This notebook aim to represent our data as a network where each node represent a stationin with the 15 km boundaries of Zurich HB and edges represent a connection from one stop to another."
   ]
  },
  {
   "cell_type": "markdown",
   "id": "6cdb0985",
   "metadata": {},
   "source": [
    "## Initialize the environment"
   ]
  },
  {
   "cell_type": "code",
   "execution_count": 1,
   "id": "579c82f6",
   "metadata": {},
   "outputs": [
    {
     "name": "stdout",
     "output_type": "stream",
     "text": [
      "Cleaning up livy sessions on exit is enabled\n"
     ]
    }
   ],
   "source": [
    "%load_ext sparkmagic.magics"
   ]
  },
  {
   "cell_type": "code",
   "execution_count": 2,
   "id": "7031358c",
   "metadata": {},
   "outputs": [],
   "source": [
    "import os\n",
    "from IPython import get_ipython\n",
    "username = os.environ['RENKU_USERNAME']\n",
    "server = \"http://iccluster044.iccluster.epfl.ch:8998\"\n",
    "\n",
    "# set the application name as \"<your_gaspar_id>-final-project\"\n",
    "get_ipython().run_cell_magic(\n",
    "    'spark',\n",
    "    line='config', \n",
    "    cell=\"\"\"{{ \"name\": \"{0}-final-projectt\", \"executorMemory\": \"4G\", \"executorCores\": 4, \"numExecutors\": 10, \"driverMemory\": \"4G\" }}\"\"\".format(username)\n",
    ")"
   ]
  },
  {
   "cell_type": "code",
   "execution_count": 3,
   "id": "1d991017",
   "metadata": {},
   "outputs": [
    {
     "name": "stdout",
     "output_type": "stream",
     "text": [
      "Starting Spark application\n"
     ]
    },
    {
     "data": {
      "text/html": [
       "<table>\n",
       "<tr><th>ID</th><th>YARN Application ID</th><th>Kind</th><th>State</th><th>Spark UI</th><th>Driver log</th><th>User</th><th>Current session?</th></tr><tr><td>5557</td><td>application_1680948035106_5057</td><td>pyspark</td><td>idle</td><td><a target=\"_blank\" href=\"http://iccluster044.iccluster.epfl.ch:8088/proxy/application_1680948035106_5057/\">Link</a></td><td><a target=\"_blank\" href=\"http://iccluster064.iccluster.epfl.ch:8042/node/containerlogs/container_e01_1680948035106_5057_01_000001/ebouille\">Link</a></td><td>None</td><td>✔</td></tr></table>"
      ],
      "text/plain": [
       "<IPython.core.display.HTML object>"
      ]
     },
     "metadata": {},
     "output_type": "display_data"
    },
    {
     "data": {
      "application/vnd.jupyter.widget-view+json": {
       "model_id": "",
       "version_major": 2,
       "version_minor": 0
      },
      "text/plain": [
       "FloatProgress(value=0.0, bar_style='info', description='Progress:', layout=Layout(height='25px', width='50%'),…"
      ]
     },
     "metadata": {},
     "output_type": "display_data"
    },
    {
     "name": "stdout",
     "output_type": "stream",
     "text": [
      "SparkSession available as 'spark'.\n"
     ]
    }
   ],
   "source": [
    "get_ipython().run_line_magic(\n",
    "    \"spark\", f\"\"\"add -s {username}-final-projectt -l python -u {server} -k\"\"\"\n",
    ")"
   ]
  },
  {
   "cell_type": "code",
   "execution_count": 4,
   "id": "9669b71c",
   "metadata": {},
   "outputs": [
    {
     "data": {
      "application/vnd.jupyter.widget-view+json": {
       "model_id": "",
       "version_major": 2,
       "version_minor": 0
      },
      "text/plain": [
       "FloatProgress(value=0.0, bar_style='info', description='Progress:', layout=Layout(height='25px', width='50%'),…"
      ]
     },
     "metadata": {},
     "output_type": "display_data"
    },
    {
     "name": "stdout",
     "output_type": "stream",
     "text": [
      "We are using Spark 2.4.8.7.1.8.0-801"
     ]
    }
   ],
   "source": [
    "%%spark\n",
    "import pyspark.sql.functions as F\n",
    "from pyspark.sql import Row\n",
    "from pyspark.sql.types import FloatType, BooleanType\n",
    "\n",
    "print('We are using Spark %s' % spark.version)"
   ]
  },
  {
   "cell_type": "markdown",
   "id": "0be9284f-f832-4731-8f8b-c57bea855866",
   "metadata": {},
   "source": [
    "## Useful fonctions and constant definition"
   ]
  },
  {
   "cell_type": "code",
   "execution_count": 5,
   "id": "11bd39b4-1079-4661-bd0a-cf540f8dc999",
   "metadata": {},
   "outputs": [
    {
     "data": {
      "application/vnd.jupyter.widget-view+json": {
       "model_id": "",
       "version_major": 2,
       "version_minor": 0
      },
      "text/plain": [
       "FloatProgress(value=0.0, bar_style='info', description='Progress:', layout=Layout(height='25px', width='50%'),…"
      ]
     },
     "metadata": {},
     "output_type": "display_data"
    }
   ],
   "source": [
    "%%spark\n",
    "from math import radians, sin, asin, cos, sqrt\n",
    "\n",
    "zurich_lat = 47.378177\n",
    "zurich_lon = 8.540192\n",
    "zurich_ID = 8503000\n",
    "\n",
    "def haversine_distance(lon1, lat1, lon2, lat2):\n",
    "    \"\"\"Compute the distance between two locations in kilometers given the latitude and longitude of both location\"\"\"\n",
    "    \n",
    "    # Convert latitude and longitude to radian (from degree) \n",
    "    lon1, lat1, lon2, lat2 = map(radians, [lon1, lat1, lon2, lat2])\n",
    "\n",
    "    # haversine formula \n",
    "    lon_d = lon2 - lon1 \n",
    "    lat_d = lat2 - lat1 \n",
    "    a = sin(lat_d/2)**2 + cos(lat1) * cos(lat2) * sin(lon_d/2)**2\n",
    "    c = 2 * asin(sqrt(a)) \n",
    "    r = 6371 # Radius of earth in kilometers\n",
    "    return c * r\n",
    "\n",
    "@F.udf\n",
    "def dist_to_zurich(lon, lat):\n",
    "    return haversine_distance(lon, lat, zurich_lon, zurich_lat)\n",
    "\n",
    "@F.udf(returnType=FloatType())\n",
    "def dist_stations(lon1, lat1, lon2, lat2):\n",
    "    return haversine_distance(lon1, lat1, lon2, lat2)\n",
    "\n",
    "@F.udf(returnType=FloatType())\n",
    "def walking_time(distance):\n",
    "    \"\"\"Return the walking time (seconds) for a given distance (km)\"\"\"\n",
    "    return 120 + distance * 1200 # we count 2 min + 1min per 50m"
   ]
  },
  {
   "cell_type": "markdown",
   "id": "b9e67929",
   "metadata": {},
   "source": [
    "## Data loading and processing\n",
    "The data used are from the week of the 15.03.2023"
   ]
  },
  {
   "cell_type": "code",
   "execution_count": 6,
   "id": "913136d1",
   "metadata": {},
   "outputs": [
    {
     "data": {
      "application/vnd.jupyter.widget-view+json": {
       "model_id": "",
       "version_major": 2,
       "version_minor": 0
      },
      "text/plain": [
       "FloatProgress(value=0.0, bar_style='info', description='Progress:', layout=Layout(height='25px', width='50%'),…"
      ]
     },
     "metadata": {},
     "output_type": "display_data"
    },
    {
     "name": "stdout",
     "output_type": "stream",
     "text": [
      "***** Actual data *****\n",
      "root\n",
      " |-- date_of_trip: string (nullable = true)\n",
      " |-- trip_id: string (nullable = true)\n",
      " |-- operator_id: string (nullable = true)\n",
      " |-- operator_abk: string (nullable = true)\n",
      " |-- operator_name: string (nullable = true)\n",
      " |-- transport_type: string (nullable = true)\n",
      " |-- train_number(train): string (nullable = true)\n",
      " |-- service type(train): string (nullable = true)\n",
      " |-- circulation_id: string (nullable = true)\n",
      " |-- means_of_transport_text: string (nullable = true)\n",
      " |-- if_additional: string (nullable = true)\n",
      " |-- if_failed: string (nullable = true)\n",
      " |-- stop_id: string (nullable = true)\n",
      " |-- stop_name: string (nullable = true)\n",
      " |-- arrival_time: string (nullable = true)\n",
      " |-- actual_arrival_time: string (nullable = true)\n",
      " |-- an_prognose_status: string (nullable = true)\n",
      " |-- departure_time: string (nullable = true)\n",
      " |-- actual_departure_time: string (nullable = true)\n",
      " |-- ab_prognose_status: string (nullable = true)\n",
      " |-- not_stop: string (nullable = true)\n",
      " |-- year: integer (nullable = true)\n",
      " |-- month: integer (nullable = true)\n",
      "\n",
      "***** All stops *****\n",
      "root\n",
      " |-- stop_id: string (nullable = true)\n",
      " |-- stop_name: string (nullable = true)\n",
      " |-- stop_lat: double (nullable = true)\n",
      " |-- stop_lon: double (nullable = true)\n",
      " |-- location_type: string (nullable = true)\n",
      " |-- parent_station: string (nullable = true)\n",
      "\n",
      "***** Trips *****\n",
      "root\n",
      " |-- route_id: string (nullable = true)\n",
      " |-- service_id: string (nullable = true)\n",
      " |-- trip_id: string (nullable = true)\n",
      " |-- trip_headsign: string (nullable = true)\n",
      " |-- trip_short_name: string (nullable = true)\n",
      " |-- direction_id: string (nullable = true)\n",
      " |-- block_id: string (nullable = true)\n",
      "\n",
      "***** Routes *****\n",
      "root\n",
      " |-- route_id: string (nullable = true)\n",
      " |-- agency_id: string (nullable = true)\n",
      " |-- route_short_name: string (nullable = true)\n",
      " |-- route_long_name: string (nullable = true)\n",
      " |-- route_desc: string (nullable = true)\n",
      " |-- route_type: string (nullable = true)\n",
      "\n",
      "***** Stop Times *****\n",
      "root\n",
      " |-- trip_id: string (nullable = true)\n",
      " |-- arrival_time: string (nullable = true)\n",
      " |-- departure_time: string (nullable = true)\n",
      " |-- stop_id: string (nullable = true)\n",
      " |-- stop_sequence: string (nullable = true)\n",
      " |-- pickup_type: string (nullable = true)\n",
      " |-- drop_off_type: string (nullable = true)\n",
      "\n",
      "***** Calendar *****\n",
      "root\n",
      " |-- service_id: string (nullable = true)\n",
      " |-- monday: string (nullable = true)\n",
      " |-- tuesday: string (nullable = true)\n",
      " |-- wednesday: string (nullable = true)\n",
      " |-- thursday: string (nullable = true)\n",
      " |-- friday: string (nullable = true)\n",
      " |-- saturday: string (nullable = true)\n",
      " |-- sunday: string (nullable = true)\n",
      " |-- start_date: string (nullable = true)\n",
      " |-- end_date: string (nullable = true)"
     ]
    }
   ],
   "source": [
    "%%spark\n",
    "# Path to the ORC data\n",
    "DATA_PATH = '../jdidio/final/data/'\n",
    "path_istdaten = \"/data/sbb/part_orc/istdaten\"\n",
    "path_allstops = \"/data/sbb/orc/allstops\"\n",
    "\n",
    "# Loading ORC data into a Spark dataframe\n",
    "df_istdaten = spark.read.orc(path_istdaten)\n",
    "df_allstops = spark.read.orc(path_allstops)\n",
    "df_trips = spark.read.csv(DATA_PATH + 'trips.txt', header=True)\n",
    "df_routes = spark.read.csv(DATA_PATH + 'routes.txt', header=True)\n",
    "df_stop_times = spark.read.csv(DATA_PATH + 'stop_times.txt', header=True)\n",
    "df_calendar = spark.read.csv(DATA_PATH + 'calendar.txt', header=True)\n",
    "\n",
    "\n",
    "\n",
    "df_istdaten = df_istdaten.withColumnRenamed(\"betriebstag\", \"date_of_trip\")\\\n",
    "                .withColumnRenamed(\"fahrt_bezeichner\", \"trip_id\")\\\n",
    "                .withColumnRenamed(\"betreiber_id\", \"operator_id\")\\\n",
    "                .withColumnRenamed(\"betreiber_abk\", \"operator_abk\")\\\n",
    "                .withColumnRenamed(\"betreiber_name\", \"operator_name\")\\\n",
    "                .withColumnRenamed(\"produkt_id\", \"transport_type\")\\\n",
    "                .withColumnRenamed(\"linien_id\", \"train_number(train)\")\\\n",
    "                .withColumnRenamed(\"linien_text\", \"service type(train)\")\\\n",
    "                .withColumnRenamed(\"umlauf_id\", \"circulation_id\")\\\n",
    "                .withColumnRenamed(\"verkehrsmittel_text\", \"means_of_transport_text\")\\\n",
    "                .withColumnRenamed(\"zusatzfahrt_tf\", \"if_additional\")\\\n",
    "                .withColumnRenamed(\"faellt_aus_tf\", \"if_failed\")\\\n",
    "                .withColumnRenamed(\"bpuic\", \"stop_id\")\\\n",
    "                .withColumnRenamed(\"haltestellen_name\", \"stop_name\")\\\n",
    "                .withColumnRenamed(\"ankunftszeit\", \"arrival_time\")\\\n",
    "                .withColumnRenamed(\"an_prognose\", \"actual_arrival_time\")\\\n",
    "                .withColumnRenamed(\"abfahrtszeit\", \"departure_time\")\\\n",
    "                .withColumnRenamed(\"ab_prognose\", \"actual_departure_time\")\\\n",
    "                .withColumnRenamed(\"durchfahrt_tf\", \"not_stop\")\n",
    "\n",
    "print(\"***** Actual data *****\")\n",
    "df_istdaten.printSchema()\n",
    "\n",
    "print(\"***** All stops *****\")\n",
    "df_allstops.printSchema()\n",
    "\n",
    "print(\"***** Trips *****\")\n",
    "df_trips.printSchema()\n",
    "\n",
    "print(\"***** Routes *****\")\n",
    "df_routes.printSchema()\n",
    "\n",
    "print(\"***** Stop Times *****\")\n",
    "df_stop_times.printSchema()\n",
    "\n",
    "print(\"***** Calendar *****\")\n",
    "df_calendar.printSchema()"
   ]
  },
  {
   "cell_type": "markdown",
   "id": "3047cbf5-c907-41fb-9119-e1735583c40c",
   "metadata": {},
   "source": [
    "### Trips filtering based on calendar\n",
    "We keep only trips that are operating on Tuesday"
   ]
  },
  {
   "cell_type": "code",
   "execution_count": 7,
   "id": "14025ff9-b510-44bf-9f9d-f669f504369f",
   "metadata": {},
   "outputs": [
    {
     "data": {
      "application/vnd.jupyter.widget-view+json": {
       "model_id": "",
       "version_major": 2,
       "version_minor": 0
      },
      "text/plain": [
       "FloatProgress(value=0.0, bar_style='info', description='Progress:', layout=Layout(height='25px', width='50%'),…"
      ]
     },
     "metadata": {},
     "output_type": "display_data"
    },
    {
     "name": "stdout",
     "output_type": "stream",
     "text": [
      "+-------------+--------------------+\n",
      "|     route_id|             trip_id|\n",
      "+-------------+--------------------+\n",
      "|91-10-A-j23-1|1.TA.91-10-A-j23-...|\n",
      "|91-10-A-j23-1|10.TA.91-10-A-j23...|\n",
      "|91-10-A-j23-1|102.TA.91-10-A-j2...|\n",
      "|91-10-A-j23-1|105.TA.91-10-A-j2...|\n",
      "|91-10-A-j23-1|106.TA.91-10-A-j2...|\n",
      "+-------------+--------------------+\n",
      "only showing top 5 rows"
     ]
    }
   ],
   "source": [
    "%%spark\n",
    "df_tuesday_services = df_calendar.filter(df_calendar.tuesday == '1').select('service_id')\n",
    "df_trips = df_trips.join(df_tuesday_services, df_trips.service_id == df_tuesday_services.service_id, 'inner')\\\n",
    "                    .select(df_trips.route_id, df_trips.trip_id)\n",
    "\n",
    "df_trips.show(5)"
   ]
  },
  {
   "cell_type": "markdown",
   "id": "f76493c7",
   "metadata": {},
   "source": [
    "### Radius filtering"
   ]
  },
  {
   "cell_type": "code",
   "execution_count": 8,
   "id": "1f526fae",
   "metadata": {},
   "outputs": [
    {
     "data": {
      "application/vnd.jupyter.widget-view+json": {
       "model_id": "",
       "version_major": 2,
       "version_minor": 0
      },
      "text/plain": [
       "FloatProgress(value=0.0, bar_style='info', description='Progress:', layout=Layout(height='25px', width='50%'),…"
      ]
     },
     "metadata": {},
     "output_type": "display_data"
    }
   ],
   "source": [
    "%%spark\n",
    "stops_in_radius = df_allstops.filter(dist_to_zurich(df_allstops.stop_lon, df_allstops.stop_lat) < 20)"
   ]
  },
  {
   "cell_type": "code",
   "execution_count": 9,
   "id": "b6faa0d1-21e1-47ce-ac8f-a8d7e83c46ea",
   "metadata": {},
   "outputs": [
    {
     "data": {
      "application/vnd.jupyter.widget-view+json": {
       "model_id": "",
       "version_major": 2,
       "version_minor": 0
      },
      "text/plain": [
       "FloatProgress(value=0.0, bar_style='info', description='Progress:', layout=Layout(height='25px', width='50%'),…"
      ]
     },
     "metadata": {},
     "output_type": "display_data"
    },
    {
     "name": "stdout",
     "output_type": "stream",
     "text": [
      "+-------+------------------+----------------+-------------------+-------------------+-------------+--------------+\n",
      "|summary|           stop_id|       stop_name|           stop_lat|           stop_lon|location_type|parent_station|\n",
      "+-------+------------------+----------------+-------------------+-------------------+-------------+--------------+\n",
      "|  count|              3028|            3028|               3028|               3028|         3028|          3028|\n",
      "|   mean| 8568073.374598809|            null|  47.37913347644312|  8.543148671133036|          1.0|          null|\n",
      "| stddev|186157.88503859195|            null|0.07683802222411877|0.11870116215213007|          0.0|          null|\n",
      "|    min|               176|          Aathal|   47.1985932328675|   8.27702313011239|             |              |\n",
      "|    max|     Parent8591065|Zürichhorn (See)|   47.5564281823636|   8.80283401543927|            1| Parent8591065|\n",
      "+-------+------------------+----------------+-------------------+-------------------+-------------+--------------+\n",
      "\n",
      "+-------+--------------------+----------------+----------------+-------------+--------------+\n",
      "|stop_id|           stop_name|        stop_lat|        stop_lon|location_type|parent_station|\n",
      "+-------+--------------------+----------------+----------------+-------------+--------------+\n",
      "|    176|Zimmerberg-Basist...|47.3516780901371|8.52195777551452|             |              |\n",
      "|8500926|Oetwil a.d.L., Sc...|47.4236270123012| 8.4031825286317|             |              |\n",
      "|8502075|Zürich Flughafen,...|47.4510244676285|8.56372943623189|             |              |\n",
      "|8502185| Bremgarten Isenlauf|47.3460664491759|8.34152216752115|             |              |\n",
      "|8502186|Dietikon Stoffelbach|47.3933267759652|8.39896044679575|             | Parent8502186|\n",
      "+-------+--------------------+----------------+----------------+-------------+--------------+\n",
      "only showing top 5 rows"
     ]
    }
   ],
   "source": [
    "%%spark\n",
    "stops_in_radius.describe().show()\n",
    "stops_in_radius.show(5)"
   ]
  },
  {
   "cell_type": "markdown",
   "id": "b5120dcc",
   "metadata": {},
   "source": [
    "## Walking table"
   ]
  },
  {
   "cell_type": "code",
   "execution_count": 10,
   "id": "ae3c0a87-1cea-4ddf-9eea-406c593ffbfd",
   "metadata": {},
   "outputs": [
    {
     "data": {
      "application/vnd.jupyter.widget-view+json": {
       "model_id": "",
       "version_major": 2,
       "version_minor": 0
      },
      "text/plain": [
       "FloatProgress(value=0.0, bar_style='info', description='Progress:', layout=Layout(height='25px', width='50%'),…"
      ]
     },
     "metadata": {},
     "output_type": "display_data"
    },
    {
     "name": "stdout",
     "output_type": "stream",
     "text": [
      "+-------+------------------+----------------+------------------+----------------+-------------------+\n",
      "|summary|          stop_id1|           name1|          stop_id2|           name2|           distance|\n",
      "+-------+------------------+----------------+------------------+----------------+-------------------+\n",
      "|  count|             26328|           26328|             26328|           26328|              26328|\n",
      "|   mean| 8570280.564485388|            null| 8570280.564485388|            null|0.21297821044136592|\n",
      "| stddev|204297.91894663416|            null|204297.91894663335|            null|0.17456925516634392|\n",
      "|    min|               176|          Aathal|               176|          Aathal|                0.0|\n",
      "|    max|     Parent8591065|Zürichhorn (See)|     Parent8591065|Zürichhorn (See)|          0.4999911|\n",
      "+-------+------------------+----------------+------------------+----------------+-------------------+\n",
      "\n",
      "+--------+--------------------+-------------+-------------+----------+\n",
      "|stop_id1|               name1|     stop_id2|        name2|  distance|\n",
      "+--------+--------------------+-------------+-------------+----------+\n",
      "|     176|Zimmerberg-Basist...|      8503086|Zürich Brunau|0.32215318|\n",
      "|     176|Zimmerberg-Basist...|  8503086:0:1|Zürich Brunau|0.32215318|\n",
      "|     176|Zimmerberg-Basist...|8503086:0:112|Zürich Brunau|0.32215318|\n",
      "|     176|Zimmerberg-Basist...|  8503086:0:2|Zürich Brunau|0.32215318|\n",
      "|     176|Zimmerberg-Basist...|8503086:0:212|Zürich Brunau|0.32215318|\n",
      "+--------+--------------------+-------------+-------------+----------+\n",
      "only showing top 5 rows"
     ]
    }
   ],
   "source": [
    "%%spark\n",
    "df_walking_stop = stops_in_radius.select(F.col(\"stop_id\").alias(\"stop_id1\"), \\\n",
    "            F.col(\"stop_name\").alias(\"name1\"), \\\n",
    "            F.col(\"stop_lat\").alias(\"lat1\"), \\\n",
    "            F.col(\"stop_lon\").alias(\"lon1\")) \\\n",
    "    .crossJoin(stops_in_radius.select(F.col(\"stop_id\").alias(\"stop_id2\"),\\\n",
    "                                  F.col(\"stop_name\").alias(\"name2\"),\\\n",
    "                                  F.col(\"stop_lat\").alias(\"lat2\"),\\\n",
    "                                  F.col(\"stop_lon\").alias(\"lon2\"))) \\\n",
    "    .withColumn(\"distance\", dist_stations(F.col(\"lon1\"), F.col(\"lat1\"), F.col(\"lon2\"), F.col(\"lat2\")))\\\n",
    "    .select(F.col(\"stop_id1\"), F.col(\"name1\"), F.col(\"stop_id2\"), F.col(\"name2\"), F.col(\"distance\")) \\\n",
    "    .filter(\"distance<=0.5 and distance>=0.0 and stop_id1 != stop_id2\")\n",
    "\n",
    "df_walking_stop.describe().show()\n",
    "df_walking_stop.show(5)"
   ]
  },
  {
   "cell_type": "code",
   "execution_count": 11,
   "id": "e7b6a478-a24c-4063-ae92-f94757007c9a",
   "metadata": {},
   "outputs": [
    {
     "data": {
      "application/vnd.jupyter.widget-view+json": {
       "model_id": "",
       "version_major": 2,
       "version_minor": 0
      },
      "text/plain": [
       "FloatProgress(value=0.0, bar_style='info', description='Progress:', layout=Layout(height='25px', width='50%'),…"
      ]
     },
     "metadata": {},
     "output_type": "display_data"
    },
    {
     "name": "stdout",
     "output_type": "stream",
     "text": [
      "+-------+------------------+----------------+\n",
      "|summary|stop_id1          |name1           |\n",
      "+-------+------------------+----------------+\n",
      "|count  |2852              |2852            |\n",
      "|mean   |8569317.333167082 |null            |\n",
      "|stddev |193816.35158222966|null            |\n",
      "|min    |176               |Aathal          |\n",
      "|max    |Parent8591065     |Zürichhorn (See)|\n",
      "+-------+------------------+----------------+\n",
      "\n",
      "+--------------+-----------------+--------------------+\n",
      "|      stop_id1|            name1|     reachable_stops|\n",
      "+--------------+-----------------+--------------------+\n",
      "|8503000:0:32CD|        Zürich HB|[[8503000, Zürich...|\n",
      "|   8503141:0:2|Küsnacht Goldbach|[[8503141:0, Küsn...|\n",
      "|     8503307:0|      Bassersdorf|[[8503307:0:1, Ba...|\n",
      "|       8507447|  Hirzel, Wässeri|[[8503752, Hirzel...|\n",
      "|       8573725|  Islisberg, Dorf|[[8583206, Islisb...|\n",
      "+--------------+-----------------+--------------------+\n",
      "only showing top 5 rows\n",
      "\n",
      "root\n",
      " |-- stop_id1: string (nullable = true)\n",
      " |-- name1: string (nullable = true)\n",
      " |-- reachable_stops: array (nullable = true)\n",
      " |    |-- element: struct (containsNull = true)\n",
      " |    |    |-- stop_id2: string (nullable = true)\n",
      " |    |    |-- name2: string (nullable = true)\n",
      " |    |    |-- walking_time: float (nullable = true)\n",
      " |    |    |-- distance: float (nullable = true)"
     ]
    }
   ],
   "source": [
    "%%spark\n",
    "df_walking_stop = df_walking_stop.withColumn(\"walking_time\", walking_time(df_walking_stop.distance))\\\n",
    "                             .select(\"stop_id1\",\"name1\",\"stop_id2\",\"name2\",\"walking_time\", \"distance\")\n",
    "\n",
    "df_walking_stop = df_walking_stop.withColumn(\"reachable_stops\", F.struct('stop_id2', 'name2', 'walking_time', 'distance'))\\\n",
    "                                .select('stop_id1', 'name1', 'reachable_stops')\\\n",
    "                                .groupBy('stop_id1', 'name1').agg(F.collect_list('reachable_stops').alias('reachable_stops'))\n",
    "\n",
    "df_walking_stop.describe().show(truncate=False)\n",
    "df_walking_stop.show(5)\n",
    "df_walking_stop.printSchema()"
   ]
  },
  {
   "cell_type": "markdown",
   "id": "b1fc0bc0-85ac-4a57-8f73-ac1aceab701d",
   "metadata": {},
   "source": [
    "## Trips table\n",
    "- List of triplet (stopID, arrival time, departure time)\n",
    "- routeID\n",
    "- ID"
   ]
  },
  {
   "cell_type": "code",
   "execution_count": 12,
   "id": "cdb5856f-61f1-473a-8dd6-87083a97039c",
   "metadata": {},
   "outputs": [
    {
     "data": {
      "application/vnd.jupyter.widget-view+json": {
       "model_id": "",
       "version_major": 2,
       "version_minor": 0
      },
      "text/plain": [
       "FloatProgress(value=0.0, bar_style='info', description='Progress:', layout=Layout(height='25px', width='50%'),…"
      ]
     },
     "metadata": {},
     "output_type": "display_data"
    },
    {
     "name": "stdout",
     "output_type": "stream",
     "text": [
      "+---------------------+-----------------------------+\n",
      "|trip_id              |trip_tuple                   |\n",
      "+---------------------+-----------------------------+\n",
      "|1.TA.91-C25-j23-1.1.H|[8772568, 07:27:00, 07:27:00]|\n",
      "|1.TA.91-C25-j23-1.1.H|[8772135, 07:40:00, 07:39:00]|\n",
      "|1.TA.91-C25-j23-1.1.H|[8772133, 07:50:00, 07:48:00]|\n",
      "|1.TA.91-C25-j23-1.1.H|[8772128, 07:59:00, 07:58:00]|\n",
      "|1.TA.91-C25-j23-1.1.H|[8772319, 08:17:00, 08:14:00]|\n",
      "+---------------------+-----------------------------+\n",
      "only showing top 5 rows"
     ]
    }
   ],
   "source": [
    "%%spark\n",
    "df_stop_times_tuples = df_stop_times.withColumn(\"trip_tuple\",F.struct(df_stop_times.stop_id,df_stop_times.departure_time,df_stop_times.arrival_time))\\\n",
    "                                    .select('trip_id', 'trip_tuple')\n",
    "df_stop_times_tuples.show(5, truncate=False)"
   ]
  },
  {
   "cell_type": "code",
   "execution_count": 13,
   "id": "1eb6e669-aefe-425a-ac1b-76a1c68cbad5",
   "metadata": {},
   "outputs": [
    {
     "data": {
      "application/vnd.jupyter.widget-view+json": {
       "model_id": "",
       "version_major": 2,
       "version_minor": 0
      },
      "text/plain": [
       "FloatProgress(value=0.0, bar_style='info', description='Progress:', layout=Layout(height='25px', width='50%'),…"
      ]
     },
     "metadata": {},
     "output_type": "display_data"
    }
   ],
   "source": [
    "%%spark\n",
    "df_stop_times_grouped = df_stop_times_tuples.groupby('trip_id').agg(F.collect_list('trip_tuple').alias('trip_tuples'))"
   ]
  },
  {
   "cell_type": "code",
   "execution_count": 14,
   "id": "1984f197-7238-4ce6-9dc7-31f0351cf831",
   "metadata": {},
   "outputs": [
    {
     "data": {
      "application/vnd.jupyter.widget-view+json": {
       "model_id": "",
       "version_major": 2,
       "version_minor": 0
      },
      "text/plain": [
       "FloatProgress(value=0.0, bar_style='info', description='Progress:', layout=Layout(height='25px', width='50%'),…"
      ]
     },
     "metadata": {},
     "output_type": "display_data"
    },
    {
     "name": "stdout",
     "output_type": "stream",
     "text": [
      "+--------------+--------------------+--------------------+\n",
      "|      route_id|             trip_id|         trip_tuples|\n",
      "+--------------+--------------------+--------------------+\n",
      "| 91-27-B-j23-1|1.TA.91-27-B-j23-...|[[8503225:0:6, 16...|\n",
      "|  91-4-A-j23-1|1.TA.91-4-A-j23-1...|[[8503097:0:2, 18...|\n",
      "| 91-4A-Y-j23-1|1.TA.91-4A-Y-j23-...|[[8505307:0:1, 13...|\n",
      "|  91-P34-j23-1|1.TA.91-P34-j23-1...|[[8721202, 12:34:...|\n",
      "|91-P45-A-j23-1|1.TA.91-P45-A-j23...|[[8718500, 18:38:...|\n",
      "+--------------+--------------------+--------------------+\n",
      "only showing top 5 rows\n",
      "\n",
      "696922"
     ]
    }
   ],
   "source": [
    "%%spark\n",
    "df_trips_clean = df_trips.join(df_stop_times_grouped, df_trips.trip_id == df_stop_times_grouped.trip_id, \"inner\")\\\n",
    "                    .select(df_trips.route_id, df_trips.trip_id, df_stop_times_grouped.trip_tuples)\n",
    "\n",
    "df_trips_clean.show(5)\n",
    "df_trips_clean.count()"
   ]
  },
  {
   "cell_type": "code",
   "execution_count": 15,
   "id": "74e2d60c-a514-4efb-b8de-523b7a1251ba",
   "metadata": {},
   "outputs": [
    {
     "data": {
      "application/vnd.jupyter.widget-view+json": {
       "model_id": "",
       "version_major": 2,
       "version_minor": 0
      },
      "text/plain": [
       "FloatProgress(value=0.0, bar_style='info', description='Progress:', layout=Layout(height='25px', width='50%'),…"
      ]
     },
     "metadata": {},
     "output_type": "display_data"
    }
   ],
   "source": [
    "%%spark\n",
    "\n",
    "stop_in_rad = list(stops_in_radius.select('stop_id').toPandas().stop_id)\n",
    "\n",
    "@F.udf(returnType=BooleanType())\n",
    "def trip_in_rad(arr):\n",
    "    outcome = False\n",
    "    for s in arr:\n",
    "        if (s[0] in stop_in_rad):\n",
    "            outcome = True\n",
    "    return outcome"
   ]
  },
  {
   "cell_type": "code",
   "execution_count": 16,
   "id": "3e597f59-bfa1-4ead-91f6-ec68e0b2bdb6",
   "metadata": {},
   "outputs": [
    {
     "data": {
      "application/vnd.jupyter.widget-view+json": {
       "model_id": "",
       "version_major": 2,
       "version_minor": 0
      },
      "text/plain": [
       "FloatProgress(value=0.0, bar_style='info', description='Progress:', layout=Layout(height='25px', width='50%'),…"
      ]
     },
     "metadata": {},
     "output_type": "display_data"
    },
    {
     "name": "stdout",
     "output_type": "stream",
     "text": [
      "59829"
     ]
    }
   ],
   "source": [
    "%%spark\n",
    "\n",
    "df_trips_clean = df_trips_clean.filter(trip_in_rad(df_trips_clean.trip_tuples))\n",
    "df_trips_clean.count()"
   ]
  },
  {
   "cell_type": "markdown",
   "id": "d4f18172-4ae6-4be3-abc4-ec9589164bc3",
   "metadata": {},
   "source": [
    "### Routes table\n",
    "Should contain:\n",
    "- List of stopID (all stop on the route)\n",
    "- List of tripID (all trip of the route)\n",
    "- RouteID\n",
    "- Transport type"
   ]
  },
  {
   "cell_type": "code",
   "execution_count": 17,
   "id": "e3ec3f38-930f-4866-87ab-869ac5198ea0",
   "metadata": {},
   "outputs": [
    {
     "data": {
      "application/vnd.jupyter.widget-view+json": {
       "model_id": "",
       "version_major": 2,
       "version_minor": 0
      },
      "text/plain": [
       "FloatProgress(value=0.0, bar_style='info', description='Progress:', layout=Layout(height='25px', width='50%'),…"
      ]
     },
     "metadata": {},
     "output_type": "display_data"
    },
    {
     "name": "stdout",
     "output_type": "stream",
     "text": [
      "+--------------+--------------------+\n",
      "|      route_id|         stop_tuples|\n",
      "+--------------+--------------------+\n",
      "| 91-10-E-j23-1|[[8591406, 1], [8...|\n",
      "|  91-3-B-j23-1|[[8500218:0:9, 1]...|\n",
      "|92-107-F-j23-1|[[8583721:0:U, 1]...|\n",
      "|92-110-B-j23-1|[[8582007, 1], [8...|\n",
      "|92-312-D-j23-1|[[1100330, 1], [1...|\n",
      "+--------------+--------------------+\n",
      "only showing top 5 rows\n",
      "\n",
      "+--------------+--------------------+----------+\n",
      "|      route_id|        list_trip_id|route_desc|\n",
      "+--------------+--------------------+----------+\n",
      "|  92-674-j23-1|[1.TA.92-674-j23-...|         B|\n",
      "| 91-10-E-j23-1|[85.TA.91-10-E-j2...|         T|\n",
      "|   92-99-j23-1|[34.TA.92-99-j23-...|         B|\n",
      "|92-305-A-j23-1|[165.TA.92-305-A-...|         B|\n",
      "|96-186-9-j23-1|[1.TA.96-186-9-j2...|         B|\n",
      "+--------------+--------------------+----------+\n",
      "only showing top 5 rows"
     ]
    }
   ],
   "source": [
    "%%spark\n",
    "df_stop_times_tuples = df_stop_times.withColumn(\"stop_tuple\",F.struct(df_stop_times.stop_id,df_stop_times.stop_sequence))\\\n",
    "                                    .select('trip_id', 'stop_tuple')\\\n",
    "                                    .groupBy('trip_id').agg(F.collect_list('stop_tuple').alias('stop_tuples'))\n",
    "\n",
    "df_routes_stops = df_trips.join(df_stop_times_tuples, df_trips.trip_id == df_stop_times_tuples.trip_id, \"inner\")\\\n",
    "                    .select(df_trips.route_id, df_stop_times_tuples.trip_id, df_stop_times_tuples.stop_tuples)\\\n",
    "                    .groupBy('route_id').agg(F.max('stop_tuples').alias('stop_tuples'))\n",
    "\n",
    "df_trips_grouped_route = df_trips_clean.groupby('route_id').agg(F.collect_list('trip_id').alias('list_trip_id'))\n",
    "\n",
    "df_routes_trips = df_routes.join(df_trips_grouped_route, df_routes.route_id == df_trips_grouped_route.route_id, \"inner\")\\\n",
    "                    .select(df_routes.route_id, df_trips_grouped_route.list_trip_id, df_routes.route_desc)\n",
    "\n",
    "df_routes_stops.show(5)\n",
    "df_routes_trips.show(5)"
   ]
  },
  {
   "cell_type": "code",
   "execution_count": 18,
   "id": "8668ffcd-fdef-4412-b493-acc3953566e6",
   "metadata": {},
   "outputs": [
    {
     "data": {
      "application/vnd.jupyter.widget-view+json": {
       "model_id": "",
       "version_major": 2,
       "version_minor": 0
      },
      "text/plain": [
       "FloatProgress(value=0.0, bar_style='info', description='Progress:', layout=Layout(height='25px', width='50%'),…"
      ]
     },
     "metadata": {},
     "output_type": "display_data"
    },
    {
     "name": "stdout",
     "output_type": "stream",
     "text": [
      "+--------------+--------------------+--------------------+----------+\n",
      "|      route_id|         stop_tuples|        list_trip_id|route_desc|\n",
      "+--------------+--------------------+--------------------+----------+\n",
      "| 91-10-E-j23-1|[[8591406, 1], [8...|[750.TA.91-10-E-j...|         T|\n",
      "|  92-674-j23-1|[[8576297, 1], [8...|[234.TA.92-674-j2...|         B|\n",
      "| 91-43-Y-j23-1|[[8506302:0:2, 1]...|[23.TA.91-43-Y-j2...|        RE|\n",
      "| 91-4Q-Y-j23-1|[[8502213:0:2, 1]...|[1.TA.91-4Q-Y-j23...|         S|\n",
      "|92-305-A-j23-1|[[8587020:0:C, 1]...|[74.TA.92-305-A-j...|         B|\n",
      "+--------------+--------------------+--------------------+----------+\n",
      "only showing top 5 rows\n",
      "\n",
      "408"
     ]
    }
   ],
   "source": [
    "%%spark\n",
    "df_routes_clean = df_routes_stops.join(df_routes_trips, df_routes_stops.route_id == df_routes_trips.route_id, 'inner')\\\n",
    "                            .select(df_routes_stops.route_id, df_routes_stops.stop_tuples, df_routes_trips.list_trip_id, df_routes_trips.route_desc)\n",
    "df_routes_clean.show(5)\n",
    "df_routes_clean.count()"
   ]
  },
  {
   "cell_type": "code",
   "execution_count": 19,
   "id": "6655508b-3d14-41ac-9ab4-026c32772e63",
   "metadata": {},
   "outputs": [
    {
     "data": {
      "application/vnd.jupyter.widget-view+json": {
       "model_id": "",
       "version_major": 2,
       "version_minor": 0
      },
      "text/plain": [
       "FloatProgress(value=0.0, bar_style='info', description='Progress:', layout=Layout(height='25px', width='50%'),…"
      ]
     },
     "metadata": {},
     "output_type": "display_data"
    },
    {
     "name": "stdout",
     "output_type": "stream",
     "text": [
      "394"
     ]
    }
   ],
   "source": [
    "%%spark\n",
    "\n",
    "df_routes_clean = df_routes_clean.filter(trip_in_rad(df_routes_clean.stop_tuples))\n",
    "df_routes_clean.count()"
   ]
  },
  {
   "cell_type": "markdown",
   "id": "88eb4ee7-a849-488a-9cba-36ddb566715e",
   "metadata": {},
   "source": [
    "### Save table in HDFS"
   ]
  },
  {
   "cell_type": "code",
   "execution_count": 20,
   "id": "43f16d41-c08c-4549-9a66-d51883fc04a0",
   "metadata": {},
   "outputs": [
    {
     "data": {
      "application/vnd.jupyter.widget-view+json": {
       "model_id": "",
       "version_major": 2,
       "version_minor": 0
      },
      "text/plain": [
       "FloatProgress(value=0.0, bar_style='info', description='Progress:', layout=Layout(height='25px', width='50%'),…"
      ]
     },
     "metadata": {},
     "output_type": "display_data"
    }
   ],
   "source": [
    "%%spark\n",
    "OUTPUT_PATH = '../rjaccard/final/data/clean/'\n",
    "df_walking_stop.write.format(\"parquet\").mode(\"overwrite\").option(\"header\", \"true\").save(OUTPUT_PATH + 'walking.parquet')\n",
    "df_routes_clean.write.format(\"parquet\").mode(\"overwrite\").option(\"header\", \"true\").save(OUTPUT_PATH + 'routes.parquet')\n",
    "df_trips_clean.write.format(\"parquet\").mode(\"overwrite\").option(\"header\", \"true\").save(OUTPUT_PATH + 'trips.parquet')\n",
    "stops_in_radius.write.format(\"parquet\").mode(\"overwrite\").option(\"header\", \"true\").save(OUTPUT_PATH + 'stops.parquet')"
   ]
  },
  {
   "cell_type": "markdown",
   "id": "60c893d8-be10-41bc-b975-40bc8f4fd122",
   "metadata": {},
   "source": [
    "### Load table from HDFS"
   ]
  },
  {
   "cell_type": "code",
   "execution_count": 21,
   "id": "00657ef4-900d-4dee-9fe0-dbdfcadc7f6b",
   "metadata": {},
   "outputs": [
    {
     "data": {
      "application/vnd.jupyter.widget-view+json": {
       "model_id": "",
       "version_major": 2,
       "version_minor": 0
      },
      "text/plain": [
       "FloatProgress(value=0.0, bar_style='info', description='Progress:', layout=Layout(height='25px', width='50%'),…"
      ]
     },
     "metadata": {},
     "output_type": "display_data"
    },
    {
     "name": "stdout",
     "output_type": "stream",
     "text": [
      "+--------------+--------------------+--------------------+----------+\n",
      "|      route_id|         stop_tuples|        list_trip_id|route_desc|\n",
      "+--------------+--------------------+--------------------+----------+\n",
      "|  92-3-Q-j23-1|[[8590991, 1], [8...|[5360.TA.92-3-Q-j...|         B|\n",
      "|  92-950-j23-1|[[8576101, 1], [8...|[135.TA.92-950-j2...|         B|\n",
      "|96-154-9-j23-1|[[8502889:0:A, 1]...|[8.TA.96-154-9-j2...|         B|\n",
      "|  92-156-j23-1|[[8590824, 2], [8...|[899.TA.92-156-j2...|         B|\n",
      "| 92-46-D-j23-1|[[8591423, 1], [8...|[226.TA.92-46-D-j...|         B|\n",
      "+--------------+--------------------+--------------------+----------+\n",
      "only showing top 5 rows\n",
      "\n",
      "+--------------+--------------------+--------------------+\n",
      "|      route_id|             trip_id|         trip_tuples|\n",
      "+--------------+--------------------+--------------------+\n",
      "|  92-816-j23-1|1.TA.92-816-j23-1...|[[8573504, 07:27:...|\n",
      "|96-186-1-j23-1|1.TA.96-186-1-j23...|[[8573703, 07:25:...|\n",
      "|92-126-A-j23-1|10.TA.92-126-A-j2...|[[8503798:0:C, 17...|\n",
      "|92-123-C-j23-1|100.TA.92-123-C-j...|[[8503798:0:C, 16...|\n",
      "|  92-1-R-j23-1|101.TA.92-1-R-j23...|[[8590980, 07:47:...|\n",
      "+--------------+--------------------+--------------------+\n",
      "only showing top 5 rows\n",
      "\n",
      "+--------------+--------------------+--------------------+\n",
      "|      stop_id1|               name1|     reachable_stops|\n",
      "+--------------+--------------------+--------------------+\n",
      "|     8502216:0|        Benzenschwil|[[8502216, Benzen...|\n",
      "|8503000:0:33AB|           Zürich HB|[[8503000, Zürich...|\n",
      "|   8503001:0:3|   Zürich Altstetten|[[8503001:0, Züri...|\n",
      "|   8503004:0:3|Zürich Tiefenbrunnen|[[8503004:0, Züri...|\n",
      "|   8503087:0:1|Zürich Saalsporth...|[[8503087, Zürich...|\n",
      "+--------------+--------------------+--------------------+\n",
      "only showing top 5 rows"
     ]
    }
   ],
   "source": [
    "%%spark\n",
    "DATA_PATH = '../rjaccard/final/data/clean/'\n",
    "routes = spark.read.parquet(OUTPUT_PATH + 'routes.parquet')\n",
    "trips = spark.read.parquet(OUTPUT_PATH + 'trips.parquet')\n",
    "walking = spark.read.parquet(OUTPUT_PATH + 'walking.parquet')\n",
    "\n",
    "routes.show(5)\n",
    "trips.show(5)\n",
    "walking.show(5)"
   ]
  },
  {
   "cell_type": "code",
   "execution_count": 22,
   "id": "377e2ee0-1861-452b-93af-17dfd6476236",
   "metadata": {},
   "outputs": [
    {
     "data": {
      "application/vnd.jupyter.widget-view+json": {
       "model_id": "",
       "version_major": 2,
       "version_minor": 0
      },
      "text/plain": [
       "FloatProgress(value=0.0, bar_style='info', description='Progress:', layout=Layout(height='25px', width='50%'),…"
      ]
     },
     "metadata": {},
     "output_type": "display_data"
    },
    {
     "name": "stdout",
     "output_type": "stream",
     "text": [
      "394"
     ]
    }
   ],
   "source": [
    "%%spark\n",
    "routes.count()"
   ]
  },
  {
   "cell_type": "code",
   "execution_count": 23,
   "id": "972a3352-9ab7-420f-964f-6045ee6a5644",
   "metadata": {},
   "outputs": [
    {
     "data": {
      "application/vnd.jupyter.widget-view+json": {
       "model_id": "",
       "version_major": 2,
       "version_minor": 0
      },
      "text/plain": [
       "FloatProgress(value=0.0, bar_style='info', description='Progress:', layout=Layout(height='25px', width='50%'),…"
      ]
     },
     "metadata": {},
     "output_type": "display_data"
    },
    {
     "name": "stdout",
     "output_type": "stream",
     "text": [
      "59829"
     ]
    }
   ],
   "source": [
    "%%spark\n",
    "trips.count()"
   ]
  },
  {
   "cell_type": "code",
   "execution_count": 25,
   "id": "38fbeb0e-a9a1-4eab-9a04-7eff9e319e5c",
   "metadata": {},
   "outputs": [],
   "source": [
    "# %spark cleanup"
   ]
  }
 ],
 "metadata": {
  "kernelspec": {
   "display_name": "Python 3 (ipykernel)",
   "language": "python",
   "name": "python3"
  },
  "language_info": {
   "codemirror_mode": {
    "name": "ipython",
    "version": 3
   },
   "file_extension": ".py",
   "mimetype": "text/x-python",
   "name": "python",
   "nbconvert_exporter": "python",
   "pygments_lexer": "ipython3",
   "version": "3.9.12"
  }
 },
 "nbformat": 4,
 "nbformat_minor": 5
}
