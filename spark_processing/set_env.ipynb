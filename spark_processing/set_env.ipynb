{
 "cells": [
  {
   "cell_type": "code",
   "execution_count": 1,
   "id": "057270af-b428-4f15-a8f4-41078b70802a",
   "metadata": {},
   "outputs": [
    {
     "name": "stdout",
     "output_type": "stream",
     "text": [
      "rjaccard\n"
     ]
    }
   ],
   "source": [
    "echo ${USERNAME}"
   ]
  },
  {
   "cell_type": "code",
   "execution_count": 9,
   "id": "b93aa338-5e71-49f1-9fb9-aaec8b704df2",
   "metadata": {},
   "outputs": [],
   "source": [
    "hdfs dfs -mkdir -p /user/${USERNAME}/final/data"
   ]
  },
  {
   "cell_type": "code",
   "execution_count": 10,
   "id": "e9a35430-3c7b-42a1-a085-8ae854e73158",
   "metadata": {},
   "outputs": [],
   "source": [
    "hdfs dfs -copyFromLocal /home/jovyan/work/final-project/data/trips.txt /user/${USERNAME}/final/data\n",
    "hdfs dfs -copyFromLocal /home/jovyan/work/final-project/data/calendar.txt /user/${USERNAME}/final/data\n",
    "hdfs dfs -copyFromLocal /home/jovyan/work/final-project/data/routes.txt /user/${USERNAME}/final/data\n",
    "hdfs dfs -copyFromLocal /home/jovyan/work/final-project/data/stop_times.txt /user/${USERNAME}/final/data\n",
    "hdfs dfs -copyFromLocal /home/jovyan/work/final-project/data/transfers.txt /user/${USERNAME}/final/data"
   ]
  },
  {
   "cell_type": "code",
   "execution_count": 7,
   "id": "5907044f-b2ea-4584-b86a-3ef571c3dad0",
   "metadata": {},
   "outputs": [
    {
     "name": "stdout",
     "output_type": "stream",
     "text": [
      "Found 3 items\n",
      "-rwxrwxrwx   3 hdfs hdfs    1338047 2023-04-18 01:59 /data/sbb/orc/allstops/000000_0\n",
      "drwxr-xr-x   - hive hdfs          0 2023-05-24 14:23 /data/sbb/orc/allstops/year=2022\n",
      "drwxr-xr-x   - hive hdfs          0 2023-05-24 14:19 /data/sbb/orc/allstops/year=2023\n"
     ]
    }
   ],
   "source": [
    "hdfs dfs -ls /data/sbb/orc/allstops"
   ]
  },
  {
   "cell_type": "code",
   "execution_count": 2,
   "id": "23628dcc-8db3-4e29-a5d1-9cc0faf955d2",
   "metadata": {},
   "outputs": [],
   "source": [
    "hdfs dfs -copyToLocal  /user/${USERNAME}/final/data/clean/routes.parquet /home/jovyan/work/final-project/data/"
   ]
  },
  {
   "cell_type": "code",
   "execution_count": 3,
   "id": "27de0202-b437-43da-aaf3-fa52e56eec8b",
   "metadata": {},
   "outputs": [],
   "source": [
    "hdfs dfs -copyToLocal  /user/${USERNAME}/final/data/clean/trips.parquet /home/jovyan/work/final-project/data/"
   ]
  },
  {
   "cell_type": "code",
   "execution_count": 4,
   "id": "c79a7604-d759-40f7-b1b4-292d0dc59a0d",
   "metadata": {},
   "outputs": [],
   "source": [
    "hdfs dfs -copyToLocal  /user/${USERNAME}/final/data/clean/walking.parquet /home/jovyan/work/final-project/data/"
   ]
  },
  {
   "cell_type": "code",
   "execution_count": 5,
   "id": "99998854-bf0c-4d40-ae73-176448b35eeb",
   "metadata": {},
   "outputs": [],
   "source": [
    "hdfs dfs -copyToLocal  /user/${USERNAME}/final/data/clean/delays.parquet /home/jovyan/work/final-project/data/"
   ]
  }
 ],
 "metadata": {
  "kernelspec": {
   "display_name": "Bash",
   "language": "bash",
   "name": "bash"
  },
  "language_info": {
   "codemirror_mode": "shell",
   "file_extension": ".sh",
   "mimetype": "text/x-sh",
   "name": "bash"
  }
 },
 "nbformat": 4,
 "nbformat_minor": 5
}
