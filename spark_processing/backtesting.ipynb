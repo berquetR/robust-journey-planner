{
 "cells": [
  {
   "cell_type": "markdown",
   "id": "08f98b9c-69fb-46ba-8983-58d7334cd5e6",
   "metadata": {},
   "source": [
    "# Risk Model Backtesting"
   ]
  },
  {
   "cell_type": "markdown",
   "id": "b7aa1988-39f6-458c-8fd3-46cb9dde1982",
   "metadata": {},
   "source": [
    "The goal of the notebook is to backtest our risk model. In order to do so, we will check the past success rate of a given trip and compare with the risk given by our model."
   ]
  },
  {
   "cell_type": "markdown",
   "id": "27a6b6c3-a7ed-4103-be77-75b322d6d8b8",
   "metadata": {},
   "source": [
    "## Initialize the environment"
   ]
  },
  {
   "cell_type": "code",
   "execution_count": 6,
   "id": "00a21c6a-6f64-4e98-ade1-1441476cbed9",
   "metadata": {},
   "outputs": [
    {
     "name": "stdout",
     "output_type": "stream",
     "text": [
      "The sparkmagic.magics extension is already loaded. To reload it, use:\n",
      "  %reload_ext sparkmagic.magics\n"
     ]
    }
   ],
   "source": [
    "%load_ext sparkmagic.magics"
   ]
  },
  {
   "cell_type": "code",
   "execution_count": 7,
   "id": "2309f19f-0bd8-4213-bc58-af15077a8cbc",
   "metadata": {},
   "outputs": [],
   "source": [
    "import os\n",
    "from IPython import get_ipython\n",
    "username = os.environ['RENKU_USERNAME']\n",
    "server = \"http://iccluster044.iccluster.epfl.ch:8998\"\n",
    "\n",
    "# set the application name as \"<your_gaspar_id>-final-project\"\n",
    "get_ipython().run_cell_magic(\n",
    "    'spark',\n",
    "    line='config', \n",
    "    cell=\"\"\"{{ \"name\": \"{0}-final-projectt\", \"executorMemory\": \"4G\", \"executorCores\": 4, \"numExecutors\": 10, \"driverMemory\": \"4G\" }}\"\"\".format(username)\n",
    ")"
   ]
  },
  {
   "cell_type": "code",
   "execution_count": 8,
   "id": "a4ac450c-4244-4f27-80f1-c5d90f6f32a7",
   "metadata": {},
   "outputs": [
    {
     "name": "stdout",
     "output_type": "stream",
     "text": [
      "Starting Spark application\n"
     ]
    },
    {
     "data": {
      "text/html": [
       "<table>\n",
       "<tr><th>ID</th><th>YARN Application ID</th><th>Kind</th><th>State</th><th>Spark UI</th><th>Driver log</th><th>User</th><th>Current session?</th></tr><tr><td>7268</td><td>application_1680948035106_6677</td><td>pyspark</td><td>idle</td><td><a target=\"_blank\" href=\"http://iccluster044.iccluster.epfl.ch:8088/proxy/application_1680948035106_6677/\">Link</a></td><td><a target=\"_blank\" href=\"http://iccluster045.iccluster.epfl.ch:8042/node/containerlogs/container_e01_1680948035106_6677_01_000001/ebouille\">Link</a></td><td>None</td><td>✔</td></tr></table>"
      ],
      "text/plain": [
       "<IPython.core.display.HTML object>"
      ]
     },
     "metadata": {},
     "output_type": "display_data"
    },
    {
     "data": {
      "application/vnd.jupyter.widget-view+json": {
       "model_id": "",
       "version_major": 2,
       "version_minor": 0
      },
      "text/plain": [
       "FloatProgress(value=0.0, bar_style='info', description='Progress:', layout=Layout(height='25px', width='50%'),…"
      ]
     },
     "metadata": {},
     "output_type": "display_data"
    },
    {
     "name": "stdout",
     "output_type": "stream",
     "text": [
      "SparkSession available as 'spark'.\n"
     ]
    }
   ],
   "source": [
    "get_ipython().run_line_magic(\n",
    "    \"spark\", f\"\"\"add -s {username}-final-projectt -l python -u {server} -k\"\"\"\n",
    ")"
   ]
  },
  {
   "cell_type": "code",
   "execution_count": 66,
   "id": "68d0c3f4-cd34-4391-976d-0be4c68806b1",
   "metadata": {},
   "outputs": [
    {
     "data": {
      "application/vnd.jupyter.widget-view+json": {
       "model_id": "",
       "version_major": 2,
       "version_minor": 0
      },
      "text/plain": [
       "FloatProgress(value=0.0, bar_style='info', description='Progress:', layout=Layout(height='25px', width='50%'),…"
      ]
     },
     "metadata": {},
     "output_type": "display_data"
    }
   ],
   "source": [
    "%%spark\n",
    "\n",
    "# Imports\n",
    "import pyspark.sql.functions as F\n",
    "from pyspark.sql import Row\n",
    "from math import radians, cos, sin, asin, sqrt, floor\n",
    "from pyspark.sql.functions import col\n",
    "from pyspark.sql.types import IntegerType, ArrayType, FloatType\n",
    "import matplotlib.pyplot as plt\n",
    "from scipy.stats import gamma\n",
    "from scipy.stats import norm\n",
    "from scipy.optimize import curve_fit\n",
    "import numpy as np"
   ]
  },
  {
   "cell_type": "markdown",
   "id": "2d9cb7b5-93dc-4167-8bee-d20919a8f7e7",
   "metadata": {},
   "source": [
    "## Test 1"
   ]
  },
  {
   "cell_type": "markdown",
   "id": "0b85a9bb-fce5-44d0-b85b-6a380eff59a1",
   "metadata": {},
   "source": [
    "Here we test the trip from Zürich Oerlikon to Zürich HB that leaves at 18h11 and arrives at 18h16. We say that we need to arrives before or at 18h17 and we compute the success rate of the trip."
   ]
  },
  {
   "cell_type": "code",
   "execution_count": 92,
   "id": "d48b03ea-808f-4b93-849c-32f767c46d9a",
   "metadata": {},
   "outputs": [
    {
     "data": {
      "application/vnd.jupyter.widget-view+json": {
       "model_id": "",
       "version_major": 2,
       "version_minor": 0
      },
      "text/plain": [
       "FloatProgress(value=0.0, bar_style='info', description='Progress:', layout=Layout(height='25px', width='50%'),…"
      ]
     },
     "metadata": {},
     "output_type": "display_data"
    }
   ],
   "source": [
    "%%spark\n",
    "\n",
    "# Path to the ORC data\n",
    "path_istdaten = \"/data/sbb/part_orc/istdaten\"\n",
    "path_allstops = \"/data/sbb/orc/allstops\"\n",
    "\n",
    "# Loading ORC data into a Spark dataframe\n",
    "df_istdaten = spark.read.orc(path_istdaten)\n",
    "df_allstops = spark.read.orc(path_allstops)\n",
    "\n",
    "# get only a sample of the data\n",
    "df_istdaten = df_istdaten#.sample(1, 0)\n",
    "df_allstops = df_allstops#.sample(1, 0)"
   ]
  },
  {
   "cell_type": "code",
   "execution_count": 93,
   "id": "bf914461-bfb0-489d-b30f-0bf460ba3b86",
   "metadata": {},
   "outputs": [
    {
     "data": {
      "application/vnd.jupyter.widget-view+json": {
       "model_id": "",
       "version_major": 2,
       "version_minor": 0
      },
      "text/plain": [
       "FloatProgress(value=0.0, bar_style='info', description='Progress:', layout=Layout(height='25px', width='50%'),…"
      ]
     },
     "metadata": {},
     "output_type": "display_data"
    }
   ],
   "source": [
    "%%spark\n",
    "\n",
    "# Remove the data that we don't need\n",
    "df_istdaten_clean = df_istdaten.filter((df_istdaten['ZUSATZFAHRT_TF'] == False) # We remove additional trips\n",
    "                                       & (df_istdaten['DURCHFAHRT_TF'] == False) # We remove trips where the transport do not stop\n",
    "                                       & (df_istdaten['FAELLT_AUS_TF'] == False)).select( # We remove failed trips \n",
    "        df_istdaten['FAHRT_BEZEICHNER'].alias('trip_id'),\n",
    "        df_istdaten['BETRIEBSTAG'].alias('date'), \n",
    "        df_istdaten['PRODUKT_ID'].alias('transport_type'), \n",
    "        df_istdaten['HALTESTELLEN_NAME'].alias('stop_name'), \n",
    "        F.to_timestamp(df_istdaten[\"ANKUNFTSZEIT\"], 'dd.MM.yyy HH:mm').alias(\"arrival_time\"),\n",
    "        F.to_timestamp(df_istdaten[\"AN_PROGNOSE\"], 'dd.MM.yyyy HH:mm:ss').alias(\"actual_arrival_time\"),\n",
    "        df_istdaten['AN_PROGNOSE_STATUS'].alias('arrival_time_status'),\n",
    "        F.to_timestamp(df_istdaten[\"ABFAHRTSZEIT\"], 'dd.MM.yyy HH:mm').alias(\"departure_time\"),\n",
    "        F.to_timestamp(df_istdaten[\"AB_PROGNOSE\"], 'dd.MM.yyyy HH:mm:ss').alias(\"actual_departure_time\"),\n",
    "        df_istdaten['AB_PROGNOSE_STATUS'].alias('departure_time_status'))"
   ]
  },
  {
   "cell_type": "code",
   "execution_count": 134,
   "id": "370fa4c7-332c-471a-b8d4-f84e9152c3ac",
   "metadata": {},
   "outputs": [
    {
     "data": {
      "application/vnd.jupyter.widget-view+json": {
       "model_id": "",
       "version_major": 2,
       "version_minor": 0
      },
      "text/plain": [
       "FloatProgress(value=0.0, bar_style='info', description='Progress:', layout=Layout(height='25px', width='50%'),…"
      ]
     },
     "metadata": {},
     "output_type": "display_data"
    }
   ],
   "source": [
    "%%spark\n",
    "# We keep only the data where we have the 'real' arrival time\n",
    "stopA = df_istdaten_clean.filter((df_istdaten_clean['stop_name'] == 'Zürich Oerlikon')).select('trip_id','departure_time', 'date').cache()\n",
    "stopB = df_istdaten_clean.filter((df_istdaten_clean['stop_name'] == 'Zürich HB') & (df_istdaten_clean['arrival_time_status'] == \"REAL\")).cache()"
   ]
  },
  {
   "cell_type": "code",
   "execution_count": 135,
   "id": "339d4c10-8c44-4c43-87b1-eacc6d7d6de4",
   "metadata": {},
   "outputs": [
    {
     "data": {
      "application/vnd.jupyter.widget-view+json": {
       "model_id": "",
       "version_major": 2,
       "version_minor": 0
      },
      "text/plain": [
       "FloatProgress(value=0.0, bar_style='info', description='Progress:', layout=Layout(height='25px', width='50%'),…"
      ]
     },
     "metadata": {},
     "output_type": "display_data"
    }
   ],
   "source": [
    "%%spark\n",
    "# We keep all the past trips of a given trip\n",
    "trip_by_A = stopA.filter((F.hour(stopA['departure_time']) == 18) & (F.minute(stopA['departure_time']) == 11))\n",
    "trip_by_B = stopB.filter((F.hour(stopB['arrival_time']) == 18) & (F.minute(stopB['arrival_time']) == 16))"
   ]
  },
  {
   "cell_type": "code",
   "execution_count": 136,
   "id": "768c361e-bb23-42f0-bde6-75647b8fe00a",
   "metadata": {},
   "outputs": [
    {
     "data": {
      "application/vnd.jupyter.widget-view+json": {
       "model_id": "",
       "version_major": 2,
       "version_minor": 0
      },
      "text/plain": [
       "FloatProgress(value=0.0, bar_style='info', description='Progress:', layout=Layout(height='25px', width='50%'),…"
      ]
     },
     "metadata": {},
     "output_type": "display_data"
    }
   ],
   "source": [
    "%%spark\n",
    "# We want the trip to pass by both A and B on the same day\n",
    "inter = trip_by_A.join(trip_by_B, (trip_by_A.trip_id == trip_by_B.trip_id) & (trip_by_A.date == trip_by_B.date))"
   ]
  },
  {
   "cell_type": "code",
   "execution_count": 137,
   "id": "72cce42f-b9e0-4f23-abf6-1683b8e2c32e",
   "metadata": {},
   "outputs": [
    {
     "data": {
      "application/vnd.jupyter.widget-view+json": {
       "model_id": "",
       "version_major": 2,
       "version_minor": 0
      },
      "text/plain": [
       "FloatProgress(value=0.0, bar_style='info', description='Progress:', layout=Layout(height='25px', width='50%'),…"
      ]
     },
     "metadata": {},
     "output_type": "display_data"
    },
    {
     "name": "stdout",
     "output_type": "stream",
     "text": [
      "We have a total of 4839 trips."
     ]
    }
   ],
   "source": [
    "%%spark\n",
    "count_tot = inter.count()\n",
    "print(\"We have a total of {} trips.\".format(count_tot))"
   ]
  },
  {
   "cell_type": "code",
   "execution_count": 140,
   "id": "a0b4e30a-ebb8-4182-894e-3bbdd35c58bd",
   "metadata": {},
   "outputs": [
    {
     "data": {
      "application/vnd.jupyter.widget-view+json": {
       "model_id": "",
       "version_major": 2,
       "version_minor": 0
      },
      "text/plain": [
       "FloatProgress(value=0.0, bar_style='info', description='Progress:', layout=Layout(height='25px', width='50%'),…"
      ]
     },
     "metadata": {},
     "output_type": "display_data"
    }
   ],
   "source": [
    "%%spark\n",
    "we_are_on_time = inter.filter((F.hour(inter['actual_arrival_time']) == 18) & (F.minute(inter['actual_arrival_time']) <= 17)).count()"
   ]
  },
  {
   "cell_type": "code",
   "execution_count": 141,
   "id": "2fc89612-b85c-4e5a-833d-c5bfb516aaf3",
   "metadata": {},
   "outputs": [
    {
     "data": {
      "application/vnd.jupyter.widget-view+json": {
       "model_id": "",
       "version_major": 2,
       "version_minor": 0
      },
      "text/plain": [
       "FloatProgress(value=0.0, bar_style='info', description='Progress:', layout=Layout(height='25px', width='50%'),…"
      ]
     },
     "metadata": {},
     "output_type": "display_data"
    },
    {
     "name": "stdout",
     "output_type": "stream",
     "text": [
      "The trip has a success rate of 0.9764414135151891%."
     ]
    }
   ],
   "source": [
    "%%spark\n",
    "score = we_are_on_time / count_tot\n",
    "print(\"The trip has a success rate of {}%.\".format(score))"
   ]
  }
 ],
 "metadata": {
  "kernelspec": {
   "display_name": "Python 3 (ipykernel)",
   "language": "python",
   "name": "python3"
  },
  "language_info": {
   "codemirror_mode": {
    "name": "ipython",
    "version": 3
   },
   "file_extension": ".py",
   "mimetype": "text/x-python",
   "name": "python",
   "nbconvert_exporter": "python",
   "pygments_lexer": "ipython3",
   "version": "3.9.12"
  }
 },
 "nbformat": 4,
 "nbformat_minor": 5
}
